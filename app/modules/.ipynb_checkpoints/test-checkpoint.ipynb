{
 "cells": [
  {
   "cell_type": "code",
   "execution_count": null,
   "metadata": {},
   "outputs": [],
   "source": [
    "import os\n",
    "import math\n",
    "import random\n",
    "\n",
    "import numpy as np\n",
    "import pandas as pd\n",
    "import matplotlib.pyplot as plt\n",
    "from scipy import optimize, signal\n",
    "\n",
    "from lmfit import models"
   ]
  },
  {
   "cell_type": "code",
   "execution_count": null,
   "metadata": {},
   "outputs": [],
   "source": [
    "image_dir = \"images\"\n",
    "def plot_to_blog(fig, figure_name):\n",
    "    filename = os.path.expanduser(f'{image_dir}/{figure_name}')\n",
    "    fig.savefig(filename)\n",
    "    return filename\n",
    "\n",
    "def g(x, A, μ, σ):\n",
    "    return A / (σ * math.sqrt(2 * math.pi)) * np.exp(-(x-μ)**2 / (2*σ**2))\n",
    "\n",
    "x = np.linspace(-3, 3, 1000)\n",
    "fig, ax = plt.subplots()\n",
    "ax.plot(x, g(x, 1, 0, 1))\n",
    "plot_to_blog(fig, 'xrd-fitting-gaussian.png')"
   ]
  },
  {
   "cell_type": "code",
   "execution_count": null,
   "metadata": {},
   "outputs": [],
   "source": [
    "def f(x):\n",
    "    return np.exp(-(x-2)**2) + np.exp(-(x-6)**2/10) + 1/(x**2 + 1)\n",
    "\n",
    "x = np.linspace(-2, 10, 1000)\n",
    "fig, ax = plt.subplots()\n",
    "ax.plot(x, -f(x))\n",
    "plot_to_blog(fig, 'xrd-fitting-unknown.png')"
   ]
  },
  {
   "cell_type": "code",
   "execution_count": null,
   "metadata": {},
   "outputs": [],
   "source": [
    "print('|{:>16}|{:>16}|{:>16}|'.format('initial','iterations','minimum'))\n",
    "initial_guess = -0.5\n",
    "result = optimize.minimize(lambda x: -f(x), [initial_guess])\n",
    "print(f'|{initial_guess:+16.1f}|{result.nit:>16}|{result.x[0]:16.3f}|')\n",
    "\n",
    "initial_guess = -2\n",
    "result = optimize.minimize(lambda x: -f(x), [initial_guess])\n",
    "print(f'|{initial_guess:+16.1f}|{result.nit:>16}|{result.x[0]:16.3f}|')\n",
    "\n",
    "initial_guess = 9\n",
    "result = optimize.minimize(lambda x: -f(x), [initial_guess])\n",
    "print(f'|{initial_guess:+16.1f}|{result.nit:>16}|{result.x[0]:16.3f}|')"
   ]
  }
 ],
 "metadata": {
  "kernelspec": {
   "display_name": "Python 3.10.4 ('b07')",
   "language": "python",
   "name": "python3"
  },
  "language_info": {
   "codemirror_mode": {
    "name": "ipython",
    "version": 3
   },
   "file_extension": ".py",
   "mimetype": "text/x-python",
   "name": "python",
   "nbconvert_exporter": "python",
   "pygments_lexer": "ipython3",
   "version": "3.10.4"
  },
  "orig_nbformat": 4,
  "vscode": {
   "interpreter": {
    "hash": "9f62ab2d43dc75e3c3b007469adeb0f7488873df876b9b71dd3b119f0280ba41"
   }
  }
 },
 "nbformat": 4,
 "nbformat_minor": 2
}
