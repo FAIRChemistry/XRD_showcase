{
 "cells": [
  {
   "cell_type": "markdown",
   "metadata": {},
   "source": [
    "# Example: XRD spectra"
   ]
  },
  {
   "cell_type": "markdown",
   "metadata": {},
   "source": [
    "### Importing necessary packages"
   ]
  },
  {
   "cell_type": "code",
   "execution_count": null,
   "metadata": {},
   "outputs": [],
   "source": [
    "from datetime import datetime\n",
    "from sdRDM import DataModel\n",
    "import numpy as np\n",
    "import matplotlib.pyplot as plt\n",
    "import pandas as pd\n",
    "import seaborn as sns\n",
    "%matplotlib inline\n",
    "import re\n",
    "import pickle"
   ]
  },
  {
   "cell_type": "markdown",
   "metadata": {},
   "source": [
    "### Loading data model from GitHub"
   ]
  },
  {
   "cell_type": "code",
   "execution_count": null,
   "metadata": {},
   "outputs": [],
   "source": [
    "url_example_showcase = \"https://github.com/FAIRChemistry/example_showcase.git\""
   ]
  },
  {
   "cell_type": "code",
   "execution_count": null,
   "metadata": {},
   "outputs": [],
   "source": [
    "model = DataModel.from_git(url=url_example_showcase)"
   ]
  },
  {
   "cell_type": "markdown",
   "metadata": {},
   "source": [
    "### Parsing XRD data"
   ]
  },
  {
   "cell_type": "code",
   "execution_count": null,
   "metadata": {},
   "outputs": [],
   "source": [
    "content = {}\n",
    "for line in open('XRD_data_set.txt', 'r'):\n",
    "    line = line.strip()\n",
    "    if '=' in line:\n",
    "        key_value = re.split('=', line.strip(r'_'))\n",
    "        try:\n",
    "            content[key_value[0]] = float(key_value[1].strip(\"'\"))\n",
    "        except ValueError:\n",
    "            content[key_value[0]] = key_value[1].strip(\"'\")\n",
    "for key, value in content.items():\n",
    "    print(key, ':', value)\n"
   ]
  },
  {
   "cell_type": "code",
   "execution_count": null,
   "metadata": {},
   "outputs": [],
   "source": [
    "from io import StringIO\n",
    "\n",
    "\n",
    "raw_data = ''\n",
    "for line in open('XRD_data_set.txt', 'r'): \n",
    "    if '=' not in line and ';' not in line and '_' not in line:\n",
    "        raw_data= raw_data + line\n",
    "#print(raw_data)\n",
    "data = pd.read_csv(StringIO(raw_data), sep='      ', names=['Angle', 'Intensity'])\n",
    "print(data)"
   ]
  },
  {
   "cell_type": "markdown",
   "metadata": {},
   "source": [
    "### Working with the data model"
   ]
  },
  {
   "cell_type": "markdown",
   "metadata": {},
   "source": [
    "Extracting date and time.\n"
   ]
  },
  {
   "cell_type": "code",
   "execution_count": null,
   "metadata": {},
   "outputs": [],
   "source": [
    "datemeasured = content['DATEMEASURED']\n",
    "pattern_date = r\"([0-9]{1,2})\\-([A-Za-z]*)\\-([0-9]{4})\\s([0-9]{2})\\:([0-9]{2})\\:([0-9]{2})\"\n",
    "months = ['jan', 'feb', 'mar', 'apr', 'may', 'jun', 'jul', 'aug', 'sep', 'oct', 'nov', 'dec']\n",
    "date_raw = re.findall(pattern_date, datemeasured)[0]\n",
    "datum = []\n",
    "for part in date_raw:\n",
    "    try:\n",
    "        datum.append(int(part))\n",
    "    except ValueError:\n",
    "        datum.append(months.index(part.lower())+1)\n",
    "print(datum)\n",
    "date = datetime(datum[2], datum[1], datum[0], datum[3], datum[4], datum[5])\n"
   ]
  },
  {
   "cell_type": "markdown",
   "metadata": {},
   "source": [
    "Extracting more metadata."
   ]
  },
  {
   "cell_type": "code",
   "execution_count": null,
   "metadata": {},
   "outputs": [],
   "source": [
    "pattern_wl = r\"(WL[1-9]{1})\"\n",
    "wls = [(content[key]) for key in [item.groups()[0] for item in [ re.search(pattern_wl, key) for key in content if re.search(pattern_wl, key) is not None ]]]\n",
    "wl_ratio = content['WLRATIO']"
   ]
  },
  {
   "cell_type": "code",
   "execution_count": null,
   "metadata": {},
   "outputs": [],
   "source": [
    "sample_id = content['SAMPLE']"
   ]
  },
  {
   "cell_type": "code",
   "execution_count": null,
   "metadata": {},
   "outputs": [],
   "source": [
    "anode = content['ANODE']"
   ]
  },
  {
   "cell_type": "code",
   "execution_count": null,
   "metadata": {},
   "outputs": [],
   "source": [
    "steptime = content['STEPTIME']\n",
    "stepsize = float(content['STEPSIZE'])\n",
    "start = float(content['START'])"
   ]
  },
  {
   "cell_type": "code",
   "execution_count": null,
   "metadata": {},
   "outputs": [],
   "source": [
    "theta = content['THETA']\n",
    "theta2 = float(content['2THETA'])"
   ]
  },
  {
   "cell_type": "markdown",
   "metadata": {},
   "source": [
    "Feeding the data model with information."
   ]
  },
  {
   "cell_type": "code",
   "execution_count": null,
   "metadata": {},
   "outputs": [],
   "source": [
    "SpecInf = model.SpecInf(wl = wls, wl_ratio = wl_ratio, anode = anode, steptime = steptime, stepsize = stepsize)"
   ]
  },
  {
   "cell_type": "code",
   "execution_count": null,
   "metadata": {},
   "outputs": [],
   "source": [
    "Dataset = model.Dataset(name_exp = 'Richard Schoemig', date = date, compound = 'Merlinoite', sample_id = sample_id, spec_inf = SpecInf)"
   ]
  },
  {
   "cell_type": "code",
   "execution_count": null,
   "metadata": {},
   "outputs": [],
   "source": [
    "print(Dataset.yaml())"
   ]
  },
  {
   "cell_type": "markdown",
   "metadata": {},
   "source": [
    "Plotting"
   ]
  },
  {
   "cell_type": "code",
   "execution_count": null,
   "metadata": {},
   "outputs": [],
   "source": [
    "\n",
    "sns.set_theme(rc={'axes.facecolor':'darkslategray', 'figure.facecolor':'goldenrod', 'grid.color':'black', 'axes.edgecolor':'black'})\n",
    "sns.set_context(\"notebook\", font_scale=1.5)\n",
    "sns.lineplot(x = \"Angle\", y = \"Intensity\", data=data, color = 'crimson')\n"
   ]
  }
 ],
 "metadata": {
  "kernelspec": {
   "display_name": "Python 3.10.4 ('b07')",
   "language": "python",
   "name": "python3"
  },
  "language_info": {
   "codemirror_mode": {
    "name": "ipython",
    "version": 3
   },
   "file_extension": ".py",
   "mimetype": "text/x-python",
   "name": "python",
   "nbconvert_exporter": "python",
   "pygments_lexer": "ipython3",
   "version": "3.10.4"
  },
  "orig_nbformat": 4,
  "vscode": {
   "interpreter": {
    "hash": "9f62ab2d43dc75e3c3b007469adeb0f7488873df876b9b71dd3b119f0280ba41"
   }
  }
 },
 "nbformat": 4,
 "nbformat_minor": 2
}
